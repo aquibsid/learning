{
 "cells": [
  {
   "cell_type": "code",
   "execution_count": 1,
   "metadata": {},
   "outputs": [
    {
     "data": {
      "text/plain": [
       "'\\nstrings - used to represent text data, the text is given under quote marks. eg. \"ABCD\"\\ninteger - used to represent integer numbers. eg. -1, -2, -3\\nfloat - used to represent real numbers. eg. 1.2, 42.42\\nboolean - used to represent True or False.\\ncomplex - used to represent a number in complex plain. eg. 1.0 + 2.0j, 1.5 + 2.5j\\n'"
      ]
     },
     "execution_count": 1,
     "metadata": {},
     "output_type": "execute_result"
    }
   ],
   "source": [
    "#data types in python\n",
    "'''\n",
    "strings - used to represent text data, the text is given under quote marks. eg. \"ABCD\"\n",
    "integer - used to represent integer numbers. eg. -1, -2, -3\n",
    "float - used to represent real numbers. eg. 1.2, 42.42\n",
    "boolean - used to represent True or False.\n",
    "complex - used to represent a number in complex plain. eg. 1.0 + 2.0j, 1.5 + 2.5j\n",
    "'''"
   ]
  },
  {
   "cell_type": "code",
   "execution_count": null,
   "metadata": {},
   "outputs": [],
   "source": []
  }
 ],
 "metadata": {
  "kernelspec": {
   "display_name": "Python 3",
   "language": "python",
   "name": "python3"
  },
  "language_info": {
   "codemirror_mode": {
    "name": "ipython",
    "version": 3
   },
   "file_extension": ".py",
   "mimetype": "text/x-python",
   "name": "python",
   "nbconvert_exporter": "python",
   "pygments_lexer": "ipython3",
   "version": "3.7.6"
  }
 },
 "nbformat": 4,
 "nbformat_minor": 4
}
