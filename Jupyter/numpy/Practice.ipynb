{
 "cells": [
  {
   "cell_type": "code",
   "execution_count": 10,
   "metadata": {
    "scrolled": false
   },
   "outputs": [],
   "source": [
    "import numpy as np"
   ]
  },
  {
   "cell_type": "code",
   "execution_count": 17,
   "metadata": {},
   "outputs": [
    {
     "name": "stdout",
     "output_type": "stream",
     "text": [
      "Array 1: [2 3 4 6 5]\n",
      "Array 2: [ 2  3  5  3 34]\n",
      "\n",
      "Array 3: [2 3 4 6 5]\n"
     ]
    }
   ],
   "source": [
    "#1-DArray\n",
    "arr1 = np.array([2,3,4,6,5])\n",
    "print(\"Array 1:\",arr1)\n",
    "\n",
    "arr2 = np.array([2,3,5,3,34])\n",
    "print(\"Array 2:\",arr2)\n",
    "\n",
    "arr3 =arr1*arr2\n",
    "print()\n",
    "print(\"Array 3:\",arr1)"
   ]
  },
  {
   "cell_type": "code",
   "execution_count": 14,
   "metadata": {},
   "outputs": [
    {
     "name": "stdout",
     "output_type": "stream",
     "text": [
      "Array 3: [2 3 4 6 5]\n"
     ]
    }
   ],
   "source": [
    "print(\"Array 3:\",arr1)"
   ]
  },
  {
   "cell_type": "code",
   "execution_count": 42,
   "metadata": {},
   "outputs": [
    {
     "name": "stdout",
     "output_type": "stream",
     "text": [
      "Array 4:\n",
      " [[1 2 3]\n",
      " [2 3 4]\n",
      " [5 6 7]]\n",
      "\n",
      "Array 5:\n",
      " [[1 2 3]\n",
      " [4 5 6]\n",
      " [7 8 9]]\n",
      "\n",
      "Array 6: Addition of Array 4 and Array 5 \n",
      " [[ 2  4  6]\n",
      " [ 6  8 10]\n",
      " [12 14 16]]\n",
      "Array 7: Multiplication of Array 4 and Array 5\n",
      " [[ 1  4  9]\n",
      " [ 8 15 24]\n",
      " [35 48 63]]\n"
     ]
    }
   ],
   "source": [
    "#2-DArray and multiplication\n",
    "arr4 =np.array([[1,2,3],\n",
    "                [2,3,4],\n",
    "                [5,6,7]])\n",
    "print(\"Array 4:\\n\",arr4)\n",
    "print()\n",
    "arr5 = np.array([[1,2,3],\n",
    "                 [4,5,6],\n",
    "                 [7,8,9]])\n",
    "print(\"Array 5:\\n\",arr5)\n",
    "arr6 = arr4+arr5 \n",
    "#simple Addition\n",
    "print()\n",
    "print(\"Array 6: Addition of Array 4 and Array 5 \\n\",arr6)\n",
    "arr7 = arr4*arr5\n",
    "#simple multiplication \n",
    "print(\"Array 7: Multiplication of Array 4 and Array 5\\n\",arr7)"
   ]
  },
  {
   "cell_type": "code",
   "execution_count": null,
   "metadata": {},
   "outputs": [],
   "source": []
  }
 ],
 "metadata": {
  "kernelspec": {
   "display_name": "Python 3",
   "language": "python",
   "name": "python3"
  },
  "language_info": {
   "codemirror_mode": {
    "name": "ipython",
    "version": 3
   },
   "file_extension": ".py",
   "mimetype": "text/x-python",
   "name": "python",
   "nbconvert_exporter": "python",
   "pygments_lexer": "ipython3",
   "version": "3.7.6"
  }
 },
 "nbformat": 4,
 "nbformat_minor": 4
}
