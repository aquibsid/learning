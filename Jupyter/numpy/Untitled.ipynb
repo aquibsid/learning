{
 "cells": [
  {
   "cell_type": "code",
   "execution_count": 1,
   "metadata": {},
   "outputs": [],
   "source": [
    "import numpy as np"
   ]
  },
  {
   "cell_type": "code",
   "execution_count": 11,
   "metadata": {},
   "outputs": [
    {
     "name": "stdout",
     "output_type": "stream",
     "text": [
      "[ 2 12 35 36 16]\n"
     ]
    }
   ],
   "source": [
    "# 1-d array\n",
    "arr1 = np.array([1, 3, 5, 6, 2])\n",
    "arr\n",
    "\n",
    "arr2 = np.array([2, 4, 7, 6, 8])\n",
    "arr2\n",
    "\n",
    "arr1 *= arr2 # arr1 = arr1 * arr2\n",
    "print(arr1)"
   ]
  },
  {
   "cell_type": "code",
   "execution_count": 21,
   "metadata": {},
   "outputs": [
    {
     "name": "stdout",
     "output_type": "stream",
     "text": [
      "[[ 2  4  6]\n",
      " [ 8 10 12]\n",
      " [14 16 18]]\n",
      "\n",
      "[[ 30  36  42]\n",
      " [ 66  81  96]\n",
      " [102 126 150]]\n"
     ]
    }
   ],
   "source": [
    "# 2-d array and multiplication\n",
    "\n",
    "arr3 = np.array([[1, 2, 3],\n",
    "                 [4, 5, 6],\n",
    "                 [7, 8, 9]])\n",
    "\n",
    "arr4 = np.array([[1, 2, 3],\n",
    "                 [4, 5, 6],\n",
    "                 [7, 8, 9]])\n",
    "\n",
    "arr5 = arr3 + arr4\n",
    "arr6 = arr3.dot(arr4)\n",
    "\n",
    "print(arr5)\n",
    "print()\n",
    "print(arr6)"
   ]
  },
  {
   "cell_type": "code",
   "execution_count": 22,
   "metadata": {},
   "outputs": [
    {
     "name": "stdout",
     "output_type": "stream",
     "text": [
      "1\n",
      "2\n"
     ]
    }
   ],
   "source": [
    "# array dimension\n",
    "\n",
    "print(arr1.ndim)\n",
    "print(arr3.ndim)"
   ]
  },
  {
   "cell_type": "code",
   "execution_count": 25,
   "metadata": {},
   "outputs": [
    {
     "data": {
      "text/plain": [
       "array([[[[1, 3, 5, 6, 2]]]])"
      ]
     },
     "execution_count": 25,
     "metadata": {},
     "output_type": "execute_result"
    }
   ],
   "source": [
    "# to declare dimensions dynamically\n",
    "arr7 = np.array([1, 3, 5, 6, 2], ndmin=4)\n",
    "arr7"
   ]
  },
  {
   "cell_type": "code",
   "execution_count": 42,
   "metadata": {},
   "outputs": [
    {
     "name": "stdout",
     "output_type": "stream",
     "text": [
      "[2 3 4 5]\n",
      "[5 6 7]\n",
      "[1 2 3 4]\n",
      "[5 6]\n",
      "[2 4]\n",
      "[1 3 5 7]\n"
     ]
    }
   ],
   "source": [
    "#array slicing\n",
    "\n",
    "arr8 = np.array([1, 2, 3, 4, 5, 6, 7])\n",
    "\n",
    "print(arr8[1:5])\n",
    "print(arr8[4:])\n",
    "print(arr8[:4])\n",
    "print(arr8[-3:-1])\n",
    "print(arr8[1:5:2])\n",
    "print(arr8[::2])"
   ]
  },
  {
   "cell_type": "code",
   "execution_count": 51,
   "metadata": {},
   "outputs": [
    {
     "name": "stdout",
     "output_type": "stream",
     "text": [
      "[2 3 4] \n",
      "\n",
      "[7 8 9] \n",
      "\n",
      "[4 9] \n",
      "\n",
      "[[2 3 4]\n",
      " [7 8 9]] \n",
      "\n"
     ]
    }
   ],
   "source": [
    "arr9 = np.array([[1, 2, 3, 4, 5], [6, 7, 8, 9, 10]])\n",
    "\n",
    "print(arr9[0, 1:4], \"\\n\")\n",
    "print(arr9[1, 1:4], \"\\n\")\n",
    "print(arr9[0:2, 3], \"\\n\")  #from both element select index 2 [Selement:Eelement, Sindex:Eindex]\n",
    "print(arr9[0:2, 1:4], \"\\n\")"
   ]
  },
  {
   "cell_type": "code",
   "execution_count": null,
   "metadata": {},
   "outputs": [],
   "source": []
  }
 ],
 "metadata": {
  "kernelspec": {
   "display_name": "Python 3",
   "language": "python",
   "name": "python3"
  },
  "language_info": {
   "codemirror_mode": {
    "name": "ipython",
    "version": 3
   },
   "file_extension": ".py",
   "mimetype": "text/x-python",
   "name": "python",
   "nbconvert_exporter": "python",
   "pygments_lexer": "ipython3",
   "version": "3.7.6"
  }
 },
 "nbformat": 4,
 "nbformat_minor": 4
}
