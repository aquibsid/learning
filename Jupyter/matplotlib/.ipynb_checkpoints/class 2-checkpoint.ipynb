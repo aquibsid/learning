{
 "cells": [
  {
   "cell_type": "code",
   "execution_count": 5,
   "metadata": {},
   "outputs": [
    {
     "data": {
      "text/plain": [
       "[]"
      ]
     },
     "execution_count": 5,
     "metadata": {},
     "output_type": "execute_result"
    },
    {
     "data": {
      "image/png": "[encoded data removed]",
      "text/plain": [
       "<Figure size 432x288 with 1 Axes>"
      ]
     },
     "metadata": {
      "needs_background": "light"
     },
     "output_type": "display_data"
    }
   ],
   "source": [
    "import matplotlib.pyplot as plt\n",
    "fig, ax = plt.subplots() # Create a figure containing a single axes.\n",
    "ax.plot([1, 2, 3, 4], [1, 4, 2, 3], marker = 'o' , color = 'red') # Plot some data on the axes. \n",
    "ax.set_xlabel('X axis') \n",
    "ax.set_xlim([0, 6]) \n",
    "ax.set_ylim([0,6])\n",
    "ax.set_title('chart') \n",
    "ax.set_xscale('linear')\n",
    "ax.plot()"
   ]
  },
  {
   "cell_type": "code",
   "execution_count": 6,
   "metadata": {},
   "outputs": [
    {
     "ename": "AttributeError",
     "evalue": "'tuple' object has no attribute 'plot'",
     "output_type": "error",
     "traceback": [
      "\u001b[1;31m---------------------------------------------------------------------------\u001b[0m",
      "\u001b[1;31mAttributeError\u001b[0m                            Traceback (most recent call last)",
      "\u001b[1;32m<ipython-input-6-e070889b79cd>\u001b[0m in \u001b[0;36m<module>\u001b[1;34m\u001b[0m\n\u001b[0;32m      3\u001b[0m \u001b[1;31m# Note that even in the OO-style, we use `.pyplot.figure` to create the figure. fig,\u001b[0m\u001b[1;33m\u001b[0m\u001b[1;33m\u001b[0m\u001b[1;33m\u001b[0m\u001b[0m\n\u001b[0;32m      4\u001b[0m \u001b[0max\u001b[0m \u001b[1;33m=\u001b[0m \u001b[0mplt\u001b[0m\u001b[1;33m.\u001b[0m\u001b[0msubplots\u001b[0m\u001b[1;33m(\u001b[0m\u001b[1;33m)\u001b[0m \u001b[1;31m# Create a figure and an axes.\u001b[0m\u001b[1;33m\u001b[0m\u001b[1;33m\u001b[0m\u001b[0m\n\u001b[1;32m----> 5\u001b[1;33m \u001b[0max\u001b[0m\u001b[1;33m.\u001b[0m\u001b[0mplot\u001b[0m\u001b[1;33m(\u001b[0m\u001b[0mx\u001b[0m\u001b[1;33m,\u001b[0m \u001b[0mx\u001b[0m\u001b[1;33m,\u001b[0m    \u001b[0mlabel\u001b[0m\u001b[1;33m=\u001b[0m\u001b[1;34m'linear'\u001b[0m\u001b[1;33m)\u001b[0m \u001b[1;31m# Plot some data on the axes.\u001b[0m\u001b[1;33m\u001b[0m\u001b[1;33m\u001b[0m\u001b[0m\n\u001b[0m\u001b[0;32m      6\u001b[0m \u001b[0max\u001b[0m\u001b[1;33m.\u001b[0m\u001b[0mplot\u001b[0m\u001b[1;33m(\u001b[0m\u001b[0mx\u001b[0m\u001b[1;33m,\u001b[0m \u001b[0mx\u001b[0m\u001b[1;33m**\u001b[0m\u001b[1;36m2\u001b[0m\u001b[1;33m,\u001b[0m \u001b[0mlabel\u001b[0m\u001b[1;33m=\u001b[0m\u001b[1;34m'quadratic'\u001b[0m\u001b[1;33m)\u001b[0m \u001b[1;31m# Plot more data on the axes...\u001b[0m\u001b[1;33m\u001b[0m\u001b[1;33m\u001b[0m\u001b[0m\n\u001b[0;32m      7\u001b[0m \u001b[0max\u001b[0m\u001b[1;33m.\u001b[0m\u001b[0mplot\u001b[0m\u001b[1;33m(\u001b[0m\u001b[0mx\u001b[0m\u001b[1;33m,\u001b[0m \u001b[0mx\u001b[0m\u001b[1;33m**\u001b[0m\u001b[1;36m3\u001b[0m\u001b[1;33m,\u001b[0m \u001b[0mlabel\u001b[0m\u001b[1;33m=\u001b[0m\u001b[1;34m'cubic'\u001b[0m\u001b[1;33m)\u001b[0m \u001b[1;31m# ... and some more.\u001b[0m\u001b[1;33m\u001b[0m\u001b[1;33m\u001b[0m\u001b[0m\n",
      "\u001b[1;31mAttributeError\u001b[0m: 'tuple' object has no attribute 'plot'"
     ]
    },
    {
     "data": {
      "image/png": "[encoded data removed]",
      "text/plain": [
       "<Figure size 432x288 with 1 Axes>"
      ]
     },
     "metadata": {
      "needs_background": "light"
     },
     "output_type": "display_data"
    }
   ],
   "source": [
    "import numpy as np \n",
    "x = np.linspace(0, 2, 100)\n",
    "# Note that even in the OO-style, we use `.pyplot.figure` to create the figure. fig,\n",
    "ax = plt.subplots() # Create a figure and an axes. \n",
    "ax.plot(x, x,    label='linear') # Plot some data on the axes. \n",
    "ax.plot(x, x**2, label='quadratic') # Plot more data on the axes... \n",
    "ax.plot(x, x**3, label='cubic') # ... and some more. \n",
    "ax.set_xlabel('x label') # Add an x-label to the axes.\n",
    "ax.set_ylabel('y label') # Add a y-label to the axes. \n",
    "ax.set_title(\"Simple Plot\") # Add a title to the axes. \n",
    "ax.legend() # Add a legend\n"
   ]
  },
  {
   "cell_type": "markdown",
   "metadata": {},
   "source": [
    "# labels = 'Frogs', 'Hogs', 'Dogs', 'Logs' \n",
    "sizes = [15, 30, 45, 10] \n",
    "explode = (0, 0.3, 0, 0) # only \"explode\" the 2nd slice (i.e. 'Hogs') fig1, \n",
    "ax1 = plt.subplots() \n",
    "ax1.pie(sizes, explode=explode, labels=labels, \n",
    "        autopct='%1.1f%%', shadow=True, startangle=90) \n",
    "ax1.axis('equal') # Equal aspect ratio ensures that pie is drawn as a circle."
   ]
  },
  {
   "cell_type": "code",
   "execution_count": 7,
   "metadata": {},
   "outputs": [],
   "source": [
    "import pandas as pd\n",
    "import numpy as np\n",
    "filepath = r'https://img1.wsimg.com/blobby/go/8c96521b-7ee0-4579-b983-c9c9fac1057e/downloads/unemploymentrate_usa_timeseries.csv?ver=1594214439799'\n",
    "ts = pd.read_csv(filepath, parse_dates=['datestamp'], index_col=\"datestamp\")"
   ]
  },
  {
   "cell_type": "code",
   "execution_count": 16,
   "metadata": {},
   "outputs": [
    {
     "data": {
      "text/plain": [
       "Index(['datestamp', 'Agriculture', 'Business services', 'Construction',\n",
       "       'Durable goods manufacturing', 'Education and Health', 'Finance',\n",
       "       'Government', 'Information', 'Leisure and hospitality', 'Manufacturing',\n",
       "       'Mining and Extraction', 'Nondurable goods manufacturing', 'Other',\n",
       "       'Self-employed', 'Transportation and Utilities',\n",
       "       'Wholesale and Retail Trade'],\n",
       "      dtype='object')"
      ]
     },
     "execution_count": 16,
     "metadata": {},
     "output_type": "execute_result"
    }
   ],
   "source": [
    "ts.columns"
   ]
  },
  {
   "cell_type": "code",
   "execution_count": 22,
   "metadata": {
    "scrolled": true
   },
   "outputs": [
    {
     "name": "stdout",
     "output_type": "stream",
     "text": [
      "<class 'pandas.core.frame.DataFrame'>\n",
      "DatetimeIndex: 122 entries, 2000-01-01 to 2010-02-01\n",
      "Data columns (total 16 columns):\n",
      " #   Column                          Non-Null Count  Dtype  \n",
      "---  ------                          --------------  -----  \n",
      " 0   Agriculture                     122 non-null    float64\n",
      " 1   Business services               122 non-null    float64\n",
      " 2   Construction                    122 non-null    float64\n",
      " 3   Durable goods manufacturing     122 non-null    float64\n",
      " 4   Education and Health            122 non-null    float64\n",
      " 5   Finance                         122 non-null    float64\n",
      " 6   Government                      122 non-null    float64\n",
      " 7   Information                     122 non-null    float64\n",
      " 8   Leisure and hospitality         122 non-null    float64\n",
      " 9   Manufacturing                   122 non-null    float64\n",
      " 10  Mining and Extraction           122 non-null    float64\n",
      " 11  Nondurable goods manufacturing  122 non-null    float64\n",
      " 12  Other                           122 non-null    float64\n",
      " 13  Self-employed                   122 non-null    float64\n",
      " 14  Transportation and Utilities    122 non-null    float64\n",
      " 15  Wholesale and Retail Trade      122 non-null    float64\n",
      "dtypes: float64(16)\n",
      "memory usage: 16.2 KB\n"
     ]
    }
   ],
   "source": [
    "ts.info()"
   ]
  },
  {
   "cell_type": "code",
   "execution_count": 24,
   "metadata": {},
   "outputs": [
    {
     "data": {
      "text/html": [
       "<div>\n",
       "<style scoped>\n",
       "    .dataframe tbody tr th:only-of-type {\n",
       "        vertical-align: middle;\n",
       "    }\n",
       "\n",
       "    .dataframe tbody tr th {\n",
       "        vertical-align: top;\n",
       "    }\n",
       "\n",
       "    .dataframe thead th {\n",
       "        text-align: right;\n",
       "    }\n",
       "</style>\n",
       "<table border=\"1\" class=\"dataframe\">\n",
       "  <thead>\n",
       "    <tr style=\"text-align: right;\">\n",
       "      <th></th>\n",
       "      <th>Agriculture</th>\n",
       "      <th>Business services</th>\n",
       "      <th>Construction</th>\n",
       "      <th>Durable goods manufacturing</th>\n",
       "      <th>Education and Health</th>\n",
       "      <th>Finance</th>\n",
       "      <th>Government</th>\n",
       "      <th>Information</th>\n",
       "      <th>Leisure and hospitality</th>\n",
       "      <th>Manufacturing</th>\n",
       "      <th>Mining and Extraction</th>\n",
       "      <th>Nondurable goods manufacturing</th>\n",
       "      <th>Other</th>\n",
       "      <th>Self-employed</th>\n",
       "      <th>Transportation and Utilities</th>\n",
       "      <th>Wholesale and Retail Trade</th>\n",
       "    </tr>\n",
       "    <tr>\n",
       "      <th>datestamp</th>\n",
       "      <th></th>\n",
       "      <th></th>\n",
       "      <th></th>\n",
       "      <th></th>\n",
       "      <th></th>\n",
       "      <th></th>\n",
       "      <th></th>\n",
       "      <th></th>\n",
       "      <th></th>\n",
       "      <th></th>\n",
       "      <th></th>\n",
       "      <th></th>\n",
       "      <th></th>\n",
       "      <th></th>\n",
       "      <th></th>\n",
       "      <th></th>\n",
       "    </tr>\n",
       "  </thead>\n",
       "  <tbody>\n",
       "    <tr>\n",
       "      <th>2000-01-01</th>\n",
       "      <td>10.3</td>\n",
       "      <td>5.7</td>\n",
       "      <td>9.7</td>\n",
       "      <td>3.2</td>\n",
       "      <td>2.3</td>\n",
       "      <td>2.7</td>\n",
       "      <td>2.1</td>\n",
       "      <td>3.4</td>\n",
       "      <td>7.5</td>\n",
       "      <td>3.6</td>\n",
       "      <td>3.9</td>\n",
       "      <td>4.4</td>\n",
       "      <td>4.9</td>\n",
       "      <td>2.3</td>\n",
       "      <td>4.3</td>\n",
       "      <td>5.0</td>\n",
       "    </tr>\n",
       "    <tr>\n",
       "      <th>2000-02-01</th>\n",
       "      <td>11.5</td>\n",
       "      <td>5.2</td>\n",
       "      <td>10.6</td>\n",
       "      <td>2.9</td>\n",
       "      <td>2.2</td>\n",
       "      <td>2.8</td>\n",
       "      <td>2.0</td>\n",
       "      <td>2.9</td>\n",
       "      <td>7.5</td>\n",
       "      <td>3.4</td>\n",
       "      <td>5.5</td>\n",
       "      <td>4.2</td>\n",
       "      <td>4.1</td>\n",
       "      <td>2.5</td>\n",
       "      <td>4.0</td>\n",
       "      <td>5.2</td>\n",
       "    </tr>\n",
       "    <tr>\n",
       "      <th>2000-03-01</th>\n",
       "      <td>10.4</td>\n",
       "      <td>5.4</td>\n",
       "      <td>8.7</td>\n",
       "      <td>2.8</td>\n",
       "      <td>2.5</td>\n",
       "      <td>2.6</td>\n",
       "      <td>1.5</td>\n",
       "      <td>3.6</td>\n",
       "      <td>7.4</td>\n",
       "      <td>3.6</td>\n",
       "      <td>3.7</td>\n",
       "      <td>5.1</td>\n",
       "      <td>4.3</td>\n",
       "      <td>2.0</td>\n",
       "      <td>3.5</td>\n",
       "      <td>5.1</td>\n",
       "    </tr>\n",
       "    <tr>\n",
       "      <th>2000-04-01</th>\n",
       "      <td>8.9</td>\n",
       "      <td>4.5</td>\n",
       "      <td>5.8</td>\n",
       "      <td>3.4</td>\n",
       "      <td>2.1</td>\n",
       "      <td>2.3</td>\n",
       "      <td>1.3</td>\n",
       "      <td>2.4</td>\n",
       "      <td>6.1</td>\n",
       "      <td>3.7</td>\n",
       "      <td>4.1</td>\n",
       "      <td>4.0</td>\n",
       "      <td>4.2</td>\n",
       "      <td>2.0</td>\n",
       "      <td>3.4</td>\n",
       "      <td>4.1</td>\n",
       "    </tr>\n",
       "    <tr>\n",
       "      <th>2000-05-01</th>\n",
       "      <td>5.1</td>\n",
       "      <td>4.7</td>\n",
       "      <td>5.0</td>\n",
       "      <td>3.4</td>\n",
       "      <td>2.7</td>\n",
       "      <td>2.2</td>\n",
       "      <td>1.9</td>\n",
       "      <td>3.5</td>\n",
       "      <td>6.2</td>\n",
       "      <td>3.4</td>\n",
       "      <td>5.3</td>\n",
       "      <td>3.6</td>\n",
       "      <td>4.5</td>\n",
       "      <td>1.9</td>\n",
       "      <td>3.4</td>\n",
       "      <td>4.3</td>\n",
       "    </tr>\n",
       "  </tbody>\n",
       "</table>\n",
       "</div>"
      ],
      "text/plain": [
       "            Agriculture  Business services  Construction  \\\n",
       "datestamp                                                  \n",
       "2000-01-01         10.3                5.7           9.7   \n",
       "2000-02-01         11.5                5.2          10.6   \n",
       "2000-03-01         10.4                5.4           8.7   \n",
       "2000-04-01          8.9                4.5           5.8   \n",
       "2000-05-01          5.1                4.7           5.0   \n",
       "\n",
       "            Durable goods manufacturing  Education and Health  Finance  \\\n",
       "datestamp                                                                \n",
       "2000-01-01                          3.2                   2.3      2.7   \n",
       "2000-02-01                          2.9                   2.2      2.8   \n",
       "2000-03-01                          2.8                   2.5      2.6   \n",
       "2000-04-01                          3.4                   2.1      2.3   \n",
       "2000-05-01                          3.4                   2.7      2.2   \n",
       "\n",
       "            Government  Information  Leisure and hospitality  Manufacturing  \\\n",
       "datestamp                                                                     \n",
       "2000-01-01         2.1          3.4                      7.5            3.6   \n",
       "2000-02-01         2.0          2.9                      7.5            3.4   \n",
       "2000-03-01         1.5          3.6                      7.4            3.6   \n",
       "2000-04-01         1.3          2.4                      6.1            3.7   \n",
       "2000-05-01         1.9          3.5                      6.2            3.4   \n",
       "\n",
       "            Mining and Extraction  Nondurable goods manufacturing  Other  \\\n",
       "datestamp                                                                  \n",
       "2000-01-01                    3.9                             4.4    4.9   \n",
       "2000-02-01                    5.5                             4.2    4.1   \n",
       "2000-03-01                    3.7                             5.1    4.3   \n",
       "2000-04-01                    4.1                             4.0    4.2   \n",
       "2000-05-01                    5.3                             3.6    4.5   \n",
       "\n",
       "            Self-employed  Transportation and Utilities  \\\n",
       "datestamp                                                 \n",
       "2000-01-01            2.3                           4.3   \n",
       "2000-02-01            2.5                           4.0   \n",
       "2000-03-01            2.0                           3.5   \n",
       "2000-04-01            2.0                           3.4   \n",
       "2000-05-01            1.9                           3.4   \n",
       "\n",
       "            Wholesale and Retail Trade  \n",
       "datestamp                               \n",
       "2000-01-01                         5.0  \n",
       "2000-02-01                         5.2  \n",
       "2000-03-01                         5.1  \n",
       "2000-04-01                         4.1  \n",
       "2000-05-01                         4.3  "
      ]
     },
     "execution_count": 24,
     "metadata": {},
     "output_type": "execute_result"
    }
   ],
   "source": [
    "ts.head()"
   ]
  },
  {
   "cell_type": "code",
   "execution_count": 26,
   "metadata": {},
   "outputs": [
    {
     "name": "stdout",
     "output_type": "stream",
     "text": [
      "<class 'pandas.core.frame.DataFrame'>\n",
      "DatetimeIndex: 122 entries, 2000-01-01 to 2010-02-01\n",
      "Data columns (total 16 columns):\n",
      " #   Column                          Non-Null Count  Dtype  \n",
      "---  ------                          --------------  -----  \n",
      " 0   Agriculture                     122 non-null    float64\n",
      " 1   Business services               122 non-null    float64\n",
      " 2   Construction                    122 non-null    float64\n",
      " 3   Durable goods manufacturing     122 non-null    float64\n",
      " 4   Education and Health            122 non-null    float64\n",
      " 5   Finance                         122 non-null    float64\n",
      " 6   Government                      122 non-null    float64\n",
      " 7   Information                     122 non-null    float64\n",
      " 8   Leisure and hospitality         122 non-null    float64\n",
      " 9   Manufacturing                   122 non-null    float64\n",
      " 10  Mining and Extraction           122 non-null    float64\n",
      " 11  Nondurable goods manufacturing  122 non-null    float64\n",
      " 12  Other                           122 non-null    float64\n",
      " 13  Self-employed                   122 non-null    float64\n",
      " 14  Transportation and Utilities    122 non-null    float64\n",
      " 15  Wholesale and Retail Trade      122 non-null    float64\n",
      "dtypes: float64(16)\n",
      "memory usage: 16.2 KB\n"
     ]
    }
   ],
   "source": [
    "ts.info()"
   ]
  },
  {
   "cell_type": "code",
   "execution_count": null,
   "metadata": {},
   "outputs": [],
   "source": []
  }
 ],
 "metadata": {
  "kernelspec": {
   "display_name": "Python 3",
   "language": "python",
   "name": "python3"
  },
  "language_info": {
   "codemirror_mode": {
    "name": "ipython",
    "version": 3
   },
   "file_extension": ".py",
   "mimetype": "text/x-python",
   "name": "python",
   "nbconvert_exporter": "python",
   "pygments_lexer": "ipython3",
   "version": "3.7.6"
  }
 },
 "nbformat": 4,
 "nbformat_minor": 4
}
